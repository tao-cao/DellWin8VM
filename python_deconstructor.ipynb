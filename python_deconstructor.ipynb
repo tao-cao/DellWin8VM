{
 "cells": [
  {
   "cell_type": "code",
   "execution_count": 1,
   "metadata": {
    "collapsed": false
   },
   "outputs": [
    {
     "name": "stdout",
     "output_type": "stream",
     "text": [
      "1 born\n"
     ]
    }
   ],
   "source": [
    "class FooType(object):\n",
    "    def __init__(self, id):\n",
    "        self.id = id\n",
    "        print self.id, 'born'\n",
    "\n",
    "    def __del__(self):\n",
    "        print self.id, 'died'\n",
    "\n",
    "\n",
    "ft = FooType(1)"
   ]
  },
  {
   "cell_type": "code",
   "execution_count": 2,
   "metadata": {
    "collapsed": false
   },
   "outputs": [
    {
     "name": "stdout",
     "output_type": "stream",
     "text": [
      "1 born\n",
      "1 died\n"
     ]
    }
   ],
   "source": [
    "ft = FooType(1)"
   ]
  },
  {
   "cell_type": "code",
   "execution_count": 5,
   "metadata": {
    "collapsed": false
   },
   "outputs": [
    {
     "name": "stdout",
     "output_type": "stream",
     "text": [
      "2 born\n",
      "2 died\n"
     ]
    }
   ],
   "source": [
    "ft = FooType(2)"
   ]
  },
  {
   "cell_type": "code",
   "execution_count": 6,
   "metadata": {
    "collapsed": false
   },
   "outputs": [
    {
     "name": "stdout",
     "output_type": "stream",
     "text": [
      "1 born\n"
     ]
    }
   ],
   "source": [
    "ft1 = FooType(1)"
   ]
  },
  {
   "cell_type": "code",
   "execution_count": 9,
   "metadata": {
    "collapsed": false
   },
   "outputs": [
    {
     "name": "stdout",
     "output_type": "stream",
     "text": [
      "3 born\n",
      "2 died\n"
     ]
    }
   ],
   "source": [
    "ft3 = FooType(3)"
   ]
  },
  {
   "cell_type": "code",
   "execution_count": 13,
   "metadata": {
    "collapsed": false
   },
   "outputs": [
    {
     "name": "stdout",
     "output_type": "stream",
     "text": [
      "Calling...\n",
      "Making...\n",
      "1 born\n",
      "Returning...\n",
      "1 died\n",
      "End...\n"
     ]
    }
   ],
   "source": [
    "class FooType(object):\n",
    "    def __init__(self, id):\n",
    "        self.id = id\n",
    "        print self.id, 'born'\n",
    "\n",
    "    def __del__(self):\n",
    "        print self.id, 'died'\n",
    "\n",
    "def make_foo():\n",
    "    print 'Making...'\n",
    "    ft = FooType(1)\n",
    "    print 'Returning...'\n",
    "    return ft\n",
    "\n",
    "print 'Calling...'\n",
    "ftx = make_foo()\n",
    "print 'End...'"
   ]
  },
  {
   "cell_type": "code",
   "execution_count": 15,
   "metadata": {
    "collapsed": false
   },
   "outputs": [
    {
     "name": "stdout",
     "output_type": "stream",
     "text": [
      "Calling...\n",
      "Making...\n",
      "1 born\n",
      "Returning...\n",
      "End...\n"
     ]
    }
   ],
   "source": [
    "print 'Calling...'\n",
    "fts = make_foo()\n",
    "print 'End...'"
   ]
  },
  {
   "cell_type": "code",
   "execution_count": null,
   "metadata": {
    "collapsed": true
   },
   "outputs": [],
   "source": []
  }
 ],
 "metadata": {
  "kernelspec": {
   "display_name": "Python 2",
   "language": "python",
   "name": "python2"
  },
  "language_info": {
   "codemirror_mode": {
    "name": "ipython",
    "version": 2
   },
   "file_extension": ".py",
   "mimetype": "text/x-python",
   "name": "python",
   "nbconvert_exporter": "python",
   "pygments_lexer": "ipython2",
   "version": "2.7.6"
  }
 },
 "nbformat": 4,
 "nbformat_minor": 0
}
