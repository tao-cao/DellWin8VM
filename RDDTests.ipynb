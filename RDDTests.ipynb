{
 "cells": [
  {
   "cell_type": "code",
   "execution_count": 1,
   "metadata": {
    "collapsed": false
   },
   "outputs": [
    {
     "name": "stdout",
     "output_type": "stream",
     "text": [
      "Populating the interactive namespace from numpy and matplotlib\n"
     ]
    }
   ],
   "source": [
    "#setting up ploting \n",
    "%pylab inline\n"
   ]
  },
  {
   "cell_type": "code",
   "execution_count": 1,
   "metadata": {
    "collapsed": true
   },
   "outputs": [],
   "source": [
    "#load the data from the storage into memory\n",
    "# using sc.textFilext('path')\n",
    "# on bluemix create a RDD from the raw data file\n",
    "# using  refer to it using a URI of the form: swift://container_name.spark/object_name\n",
    "rawRDD = sc.textFile('swift://data.spark/tweets.txt').cache()"
   ]
  },
  {
   "cell_type": "code",
   "execution_count": 2,
   "metadata": {
    "collapsed": false
   },
   "outputs": [
    {
     "data": {
      "text/plain": [
       "pyspark.rdd.RDD"
      ]
     },
     "execution_count": 2,
     "metadata": {},
     "output_type": "execute_result"
    }
   ],
   "source": [
    "type(rawRDD)"
   ]
  },
  {
   "cell_type": "code",
   "execution_count": 9,
   "metadata": {
    "collapsed": false
   },
   "outputs": [
    {
     "name": "stdout",
     "output_type": "stream",
     "text": [
      "15000\n",
      "<type 'list'>\n",
      "<type 'unicode'>\n"
     ]
    }
   ],
   "source": [
    "print rawRDD.count()\n",
    "print type(rawRDD.take(1))\n",
    "\n",
    "print type(rawRDD.take(1)[0]) #the output is unicode, which means the original format of the tweets data is STRING"
   ]
  },
  {
   "cell_type": "code",
   "execution_count": 10,
   "metadata": {
    "collapsed": false
   },
   "outputs": [
    {
     "name": "stdout",
     "output_type": "stream",
     "text": [
      "{u'contributors': None, u'truncated': False, u'text': u'#Tvillingene Mennesker er mer komplisert enn du tror. Men v\\xe6r realistisk og gj\\xf8r ditt beste. Finn ut hva som  http://t.co/L8SuHS4mTE', u'in_reply_to_status_id': None, u'id': 611858757937709056L, u'favorite_count': 0, u'source': u'<a href=\"http://zodiacrum.com\" rel=\"nofollow\">zodiacrum</a>', u'retweeted': False, u'coordinates': None, u'timestamp_ms': u'1434713470335', u'entities': {u'symbols': [], u'user_mentions': [], u'trends': [], u'hashtags': [{u'indices': [0, 12], u'text': u'Tvillingene'}], u'urls': [{u'indices': [110, 132], u'url': u'http://t.co/L8SuHS4mTE', u'expanded_url': u'http://goo.gl/ATVXWw', u'display_url': u'goo.gl/ATVXWw'}]}, u'in_reply_to_screen_name': None, u'in_reply_to_user_id': None, u'retweet_count': 0, u'id_str': u'611858757937709056', u'favorited': False, u'user': {u'follow_request_sent': None, u'profile_use_background_image': True, u'profile_background_image_url_https': u'https://abs.twimg.com/images/themes/theme1/bg.png', u'verified': False, u'profile_image_url_https': u'https://pbs.twimg.com/profile_images/584382932682469377/ghXTeRKg_normal.jpg', u'profile_sidebar_fill_color': u'DDEEF6', u'id': 3131064893L, u'profile_text_color': u'333333', u'followers_count': 202, u'profile_sidebar_border_color': u'C0DEED', u'location': u'Norway', u'default_profile_image': False, u'id_str': u'3131064893', u'utc_offset': 10800, u'statuses_count': 580, u'description': u'Daglige horoskoper!', u'friends_count': 1189, u'profile_link_color': u'0084B4', u'profile_image_url': u'http://pbs.twimg.com/profile_images/584382932682469377/ghXTeRKg_normal.jpg', u'notifications': None, u'geo_enabled': False, u'profile_background_color': u'C0DEED', u'profile_banner_url': u'https://pbs.twimg.com/profile_banners/3131064893/1428147692', u'profile_background_image_url': u'http://abs.twimg.com/images/themes/theme1/bg.png', u'name': u'Stjerner Tolk', u'lang': u'en', u'following': None, u'profile_background_tile': False, u'favourites_count': 1, u'screen_name': u'StjernerTolk', u'url': u'http://zodiacrum.com/', u'created_at': u'Wed Apr 01 15:10:43 +0000 2015', u'contributors_enabled': False, u'time_zone': u'Bucharest', u'protected': False, u'default_profile': True, u'is_translator': False, u'listed_count': 2}, u'geo': None, u'in_reply_to_user_id_str': None, u'possibly_sensitive': False, u'lang': u'no', u'created_at': u'Fri Jun 19 11:31:10 +0000 2015', u'filter_level': u'low', u'in_reply_to_status_id_str': None, u'place': None}\n"
     ]
    }
   ],
   "source": [
    "print rawRDD.take(1)[0]\n"
   ]
  },
  {
   "cell_type": "code",
   "execution_count": 12,
   "metadata": {
    "collapsed": false
   },
   "outputs": [
    {
     "ename": "TypeError",
     "evalue": "string indices must be integers",
     "output_type": "error",
     "traceback": [
      "\u001b[1;31m---------------------------------------------------------------------------\u001b[0m",
      "\u001b[1;31mTypeError\u001b[0m                                 Traceback (most recent call last)",
      "\u001b[1;32m<ipython-input-12-265a678b2fb5>\u001b[0m in \u001b[0;36m<module>\u001b[1;34m()\u001b[0m\n\u001b[1;32m----> 1\u001b[1;33m \u001b[1;32mprint\u001b[0m \u001b[0mrawRDD\u001b[0m\u001b[1;33m.\u001b[0m\u001b[0mtake\u001b[0m\u001b[1;33m(\u001b[0m\u001b[1;36m1\u001b[0m\u001b[1;33m)\u001b[0m\u001b[1;33m[\u001b[0m\u001b[1;36m0\u001b[0m\u001b[1;33m]\u001b[0m\u001b[1;33m[\u001b[0m\u001b[1;34m'text'\u001b[0m\u001b[1;33m]\u001b[0m\u001b[1;33m\u001b[0m\u001b[0m\n\u001b[0m",
      "\u001b[1;31mTypeError\u001b[0m: string indices must be integers"
     ]
    }
   ],
   "source": [
    "print rawRDD.take(1)[0]['text'] # TypeError: string indices must be integers"
   ]
  },
  {
   "cell_type": "code",
   "execution_count": 13,
   "metadata": {
    "collapsed": true
   },
   "outputs": [],
   "source": [
    "dictRDD = rawRDD.map(eval)"
   ]
  },
  {
   "cell_type": "code",
   "execution_count": 14,
   "metadata": {
    "collapsed": false
   },
   "outputs": [
    {
     "name": "stdout",
     "output_type": "stream",
     "text": [
      "<class 'pyspark.rdd.PipelinedRDD'>\n"
     ]
    }
   ],
   "source": [
    "print type(dictRDD)"
   ]
  },
  {
   "cell_type": "code",
   "execution_count": 18,
   "metadata": {
    "collapsed": false
   },
   "outputs": [
    {
     "name": "stdout",
     "output_type": "stream",
     "text": [
      "<type 'list'>\n",
      "<type 'dict'>\n",
      "[{u'contributors': None, u'truncated': False, u'text': u'#Tvillingene Mennesker er mer komplisert enn du tror. Men v\\xe6r realistisk og gj\\xf8r ditt beste. Finn ut hva som  http://t.co/L8SuHS4mTE', u'in_reply_to_status_id': None, u'id': 611858757937709056L, u'favorite_count': 0, u'source': u'<a href=\"http://zodiacrum.com\" rel=\"nofollow\">zodiacrum</a>', u'retweeted': False, u'coordinates': None, u'timestamp_ms': u'1434713470335', u'entities': {u'symbols': [], u'user_mentions': [], u'trends': [], u'hashtags': [{u'indices': [0, 12], u'text': u'Tvillingene'}], u'urls': [{u'indices': [110, 132], u'url': u'http://t.co/L8SuHS4mTE', u'expanded_url': u'http://goo.gl/ATVXWw', u'display_url': u'goo.gl/ATVXWw'}]}, u'in_reply_to_screen_name': None, u'in_reply_to_user_id': None, u'retweet_count': 0, u'id_str': u'611858757937709056', u'favorited': False, u'user': {u'follow_request_sent': None, u'profile_use_background_image': True, u'default_profile_image': False, u'id': 3131064893L, u'verified': False, u'profile_image_url_https': u'https://pbs.twimg.com/profile_images/584382932682469377/ghXTeRKg_normal.jpg', u'profile_sidebar_fill_color': u'DDEEF6', u'geo_enabled': False, u'profile_text_color': u'333333', u'followers_count': 202, u'protected': False, u'location': u'Norway', u'profile_background_color': u'C0DEED', u'listed_count': 2, u'utc_offset': 10800, u'statuses_count': 580, u'description': u'Daglige horoskoper!', u'friends_count': 1189, u'profile_link_color': u'0084B4', u'profile_image_url': u'http://pbs.twimg.com/profile_images/584382932682469377/ghXTeRKg_normal.jpg', u'notifications': None, u'profile_background_image_url_https': u'https://abs.twimg.com/images/themes/theme1/bg.png', u'profile_banner_url': u'https://pbs.twimg.com/profile_banners/3131064893/1428147692', u'id_str': u'3131064893', u'profile_background_image_url': u'http://abs.twimg.com/images/themes/theme1/bg.png', u'screen_name': u'StjernerTolk', u'lang': u'en', u'following': None, u'profile_background_tile': False, u'favourites_count': 1, u'name': u'Stjerner Tolk', u'url': u'http://zodiacrum.com/', u'created_at': u'Wed Apr 01 15:10:43 +0000 2015', u'contributors_enabled': False, u'time_zone': u'Bucharest', u'profile_sidebar_border_color': u'C0DEED', u'default_profile': True, u'is_translator': False}, u'geo': None, u'in_reply_to_user_id_str': None, u'possibly_sensitive': False, u'lang': u'no', u'created_at': u'Fri Jun 19 11:31:10 +0000 2015', u'filter_level': u'low', u'in_reply_to_status_id_str': None, u'place': None}]\n"
     ]
    }
   ],
   "source": [
    "#what is the difference between rawRDD and dictRDD?\n",
    "# pyspark.rdd.RDD VS pyspark.rdd.PipelinedRDD ?\n",
    "print type(dictRDD.take(1))\n",
    "print type(dictRDD.take(1)[0])\n",
    "print dictRDD.take(1)"
   ]
  },
  {
   "cell_type": "code",
   "execution_count": null,
   "metadata": {
    "collapsed": true
   },
   "outputs": [],
   "source": []
  }
 ],
 "metadata": {
  "kernelspec": {
   "display_name": "Python 2",
   "language": "python",
   "name": "python2"
  },
  "language_info": {
   "codemirror_mode": {
    "name": "ipython",
    "version": 2
   },
   "file_extension": ".py",
   "mimetype": "text/x-python",
   "name": "python",
   "nbconvert_exporter": "python",
   "pygments_lexer": "ipython2",
   "version": "2.7.9"
  },
  "name": "RDDTests.ipynb"
 },
 "nbformat": 4,
 "nbformat_minor": 0
}
