{
 "cells": [
  {
   "cell_type": "code",
   "execution_count": 1,
   "metadata": {
    "collapsed": true
   },
   "outputs": [],
   "source": [
    "testrdd = (\n",
    "    sc.parallelize([(u'ZI000067775', (290, 1)),(u'ZI000067775', (280, 1)),\n",
    " (u'WFM00091754', (3, 1)),(u'WFM00091754', (5, 1)),\n",
    " (u'VQW00011640', (0, 1)),(u'VQW00011640', (8, 1)),\n",
    " (u'VQW00011624', (0, 1)),\n",
    " (u'VQC00676000', (0, 1)),\n",
    " (u'VQC00672560', (0, 1)),\n",
    " (u'VQC00672551', (0, 1)),\n",
    " (u'VMW00041011', (0, 1)),\n",
    " (u'VMW00041010', (0, 1)),(u'VMW00041010', (9, 1)),(u'VMW00041010', (10, 1)),\n",
    " (u'VMM00048914', (0, 1))])\n",
    "           )"
   ]
  },
  {
   "cell_type": "code",
   "execution_count": 2,
   "metadata": {
    "collapsed": false
   },
   "outputs": [
    {
     "data": {
      "text/plain": [
       "[(u'ZI000067775', (290, 1)),\n",
       " (u'ZI000067775', (280, 1)),\n",
       " (u'WFM00091754', (3, 1)),\n",
       " (u'WFM00091754', (5, 1)),\n",
       " (u'VQW00011640', (0, 1)),\n",
       " (u'VQW00011640', (8, 1)),\n",
       " (u'VQW00011624', (0, 1)),\n",
       " (u'VQC00676000', (0, 1)),\n",
       " (u'VQC00672560', (0, 1)),\n",
       " (u'VQC00672551', (0, 1)),\n",
       " (u'VMW00041011', (0, 1)),\n",
       " (u'VMW00041010', (0, 1)),\n",
       " (u'VMW00041010', (9, 1)),\n",
       " (u'VMW00041010', (10, 1)),\n",
       " (u'VMM00048914', (0, 1))]"
      ]
     },
     "execution_count": 2,
     "metadata": {},
     "output_type": "execute_result"
    }
   ],
   "source": [
    "testrdd.collect() \n",
    "# one question, how the RDD is formated \n",
    "# what is the number of defaullt RDD partions?"
   ]
  },
  {
   "cell_type": "code",
   "execution_count": 7,
   "metadata": {
    "collapsed": false
   },
   "outputs": [
    {
     "data": {
      "text/plain": [
       "[(u'ZI000067775', (290, 1)),\n",
       " (u'ZI000067775', (280, 1)),\n",
       " (u'WFM00091754', (5, 1)),\n",
       " (u'WFM00091754', (3, 1)),\n",
       " (u'VQW00011640', (8, 1))]"
      ]
     },
     "execution_count": 7,
     "metadata": {},
     "output_type": "execute_result"
    }
   ],
   "source": [
    "testrdd.top(5) \n",
    "#according the results below, the top() method orded by statiob ID -- the key of the RDD.\n",
    "# then the key of the subkey(? what is the proper name)\n"
   ]
  },
  {
   "cell_type": "code",
   "execution_count": 12,
   "metadata": {
    "collapsed": false
   },
   "outputs": [
    {
     "data": {
      "text/plain": [
       "[(u'ZI000067775', (290, 1)),\n",
       " (u'ZI000067775', (280, 1)),\n",
       " (u'WFM00091754', (5, 1)),\n",
       " (u'WFM00091754', (3, 1)),\n",
       " (u'VQW00011640', (8, 1)),\n",
       " (u'VQW00011640', (0, 1))]"
      ]
     },
     "execution_count": 12,
     "metadata": {},
     "output_type": "execute_result"
    }
   ],
   "source": [
    "testrdd.top(6)\n",
    "# the different between top() and take() to select the entity of RDD\n",
    "# top() sort the entities by key\n",
    "# take() do not sort the entities (which means take() selet the entities according the RDD default order of the entities)"
   ]
  },
  {
   "cell_type": "code",
   "execution_count": 1,
   "metadata": {
    "collapsed": false
   },
   "outputs": [],
   "source": [
    "testrdd1 = (\n",
    "    sc.parallelize([(u'VMW00041010', (11, 1)),(u'ZI000067775', (290, 1)),(u'ZI000067775', (280, 1)),\n",
    " (u'WFM00091754', (3, 1)),(u'WFM00091754', (5, 1)),(u'WFM00091754', (4, 2)),\n",
    " (u'VQW00011640', (0, 1)),(u'VQW00011640', (8, 1)),(u'VQW00011640', (7, 3)),(u'VQW00011640', (6, 2)),(u'VQW00011640', (6, 3)),\n",
    " (u'VQW00011624', (0, 1)),\n",
    " (u'VQC00676000', (0, 1)),\n",
    " (u'VQC00672560', (0, 1)),\n",
    " (u'VQC00672551', (0, 1)),\n",
    " (u'VMW00041011', (0, 1)),\n",
    " (u'VMW00041010', (0, 1)),(u'VMW00041010', (9, 1)),(u'VMW00041010', (10, 1)),\n",
    " (u'VMM00048914', (0, 1))])\n",
    "           )"
   ]
  },
  {
   "cell_type": "code",
   "execution_count": 2,
   "metadata": {
    "collapsed": false
   },
   "outputs": [
    {
     "data": {
      "text/plain": [
       "[(u'VMW00041010', (11, 1)),\n",
       " (u'ZI000067775', (290, 1)),\n",
       " (u'ZI000067775', (280, 1)),\n",
       " (u'WFM00091754', (3, 1)),\n",
       " (u'WFM00091754', (5, 1)),\n",
       " (u'WFM00091754', (4, 2)),\n",
       " (u'VQW00011640', (0, 1)),\n",
       " (u'VQW00011640', (8, 1)),\n",
       " (u'VQW00011640', (7, 3)),\n",
       " (u'VQW00011640', (6, 2)),\n",
       " (u'VQW00011640', (6, 3)),\n",
       " (u'VQW00011624', (0, 1)),\n",
       " (u'VQC00676000', (0, 1)),\n",
       " (u'VQC00672560', (0, 1)),\n",
       " (u'VQC00672551', (0, 1)),\n",
       " (u'VMW00041011', (0, 1)),\n",
       " (u'VMW00041010', (0, 1)),\n",
       " (u'VMW00041010', (9, 1)),\n",
       " (u'VMW00041010', (10, 1)),\n",
       " (u'VMM00048914', (0, 1))]"
      ]
     },
     "execution_count": 2,
     "metadata": {},
     "output_type": "execute_result"
    }
   ],
   "source": [
    "testrdd1.collect() # collect no order"
   ]
  },
  {
   "cell_type": "code",
   "execution_count": 43,
   "metadata": {
    "collapsed": false
   },
   "outputs": [
    {
     "data": {
      "text/plain": [
       "20"
      ]
     },
     "execution_count": 43,
     "metadata": {},
     "output_type": "execute_result"
    }
   ],
   "source": [
    "testrdd1.distinct().count()"
   ]
  },
  {
   "cell_type": "code",
   "execution_count": 44,
   "metadata": {
    "collapsed": false
   },
   "outputs": [
    {
     "data": {
      "text/plain": [
       "[(u'VQW00011640', (7, 3)),\n",
       " (u'VQC00672551', (0, 1)),\n",
       " (u'WFM00091754', (5, 1)),\n",
       " (u'ZI000067775', (290, 1)),\n",
       " (u'VQW00011624', (0, 1)),\n",
       " (u'VQC00672560', (0, 1)),\n",
       " (u'VMW00041010', (11, 1)),\n",
       " (u'VMW00041010', (0, 1)),\n",
       " (u'ZI000067775', (280, 1)),\n",
       " (u'VMW00041010', (10, 1)),\n",
       " (u'VQC00676000', (0, 1)),\n",
       " (u'VQW00011640', (6, 2)),\n",
       " (u'VQW00011640', (6, 3)),\n",
       " (u'VQW00011640', (8, 1)),\n",
       " (u'VMW00041011', (0, 1)),\n",
       " (u'VMM00048914', (0, 1)),\n",
       " (u'WFM00091754', (3, 1)),\n",
       " (u'VMW00041010', (9, 1)),\n",
       " (u'VQW00011640', (0, 1)),\n",
       " (u'WFM00091754', (4, 2))]"
      ]
     },
     "execution_count": 44,
     "metadata": {},
     "output_type": "execute_result"
    }
   ],
   "source": [
    "testrdd1.distinct().collect()"
   ]
  },
  {
   "cell_type": "code",
   "execution_count": 45,
   "metadata": {
    "collapsed": false
   },
   "outputs": [],
   "source": [
    "testrdd2 = (\n",
    "    sc.parallelize([(u'VMW00041010', (11, 1)),(u'ZI000067775', (290, 1)),(u'ZI000067775', (280, 1)),\n",
    " (u'WFM00091754', (3, 1)),(u'WFM00091754', (5, 1)),(u'WFM00091754', (4, 2)),\n",
    "                    (u'WFM00091754', (3, 1)),(u'WFM00091754', (5, 1)),(u'WFM00091754', (4, 2)),\n",
    " (u'VQW00011640', (0, 1)),(u'VQW00011640', (8, 1)),(u'VQW00011640', (7, 3)),(u'VQW00011640', (6, 2)),(u'VQW00011640', (6, 3)),\n",
    " (u'VQW00011624', (0, 1)),\n",
    " (u'VQC00676000', (0, 1)),\n",
    " (u'VQC00672560', (0, 1)),\n",
    " (u'VQC00672551', (0, 1)),\n",
    " (u'VMW00041011', (0, 1)),\n",
    " (u'VMW00041010', (0, 1)),(u'VMW00041010', (9, 1)),(u'VMW00041010', (10, 1)),\n",
    " (u'VMM00048914', (0, 1))])\n",
    "           )"
   ]
  },
  {
   "cell_type": "code",
   "execution_count": 46,
   "metadata": {
    "collapsed": false
   },
   "outputs": [
    {
     "data": {
      "text/plain": [
       "23"
      ]
     },
     "execution_count": 46,
     "metadata": {},
     "output_type": "execute_result"
    }
   ],
   "source": [
    "testrdd2.count()"
   ]
  },
  {
   "cell_type": "code",
   "execution_count": 47,
   "metadata": {
    "collapsed": false
   },
   "outputs": [
    {
     "data": {
      "text/plain": [
       "20"
      ]
     },
     "execution_count": 47,
     "metadata": {},
     "output_type": "execute_result"
    }
   ],
   "source": [
    "testrdd2.distinct().count()"
   ]
  },
  {
   "cell_type": "code",
   "execution_count": 48,
   "metadata": {
    "collapsed": false
   },
   "outputs": [
    {
     "data": {
      "text/plain": [
       "10"
      ]
     },
     "execution_count": 48,
     "metadata": {},
     "output_type": "execute_result"
    }
   ],
   "source": [
    "#weatherPrecpAddByKey = weatherPrecpCountByKey.reduceByKey(lambda v1,v2 : (v1[0]+v2[0], v1[1]+v2[1]))\n",
    "testrddAddByKey1 = testrdd1.reduceByKey(lambda v1,v2 : (v1[0]+v2[0], v1[1]+v2[1]))\n",
    "testrddAddByKey1.count()"
   ]
  },
  {
   "cell_type": "code",
   "execution_count": 37,
   "metadata": {
    "collapsed": false
   },
   "outputs": [
    {
     "data": {
      "text/plain": [
       "[(u'WFM00091754', (12, 4)),\n",
       " (u'VQC00676000', (0, 1)),\n",
       " (u'VQW00011624', (0, 1)),\n",
       " (u'VMM00048914', (0, 1)),\n",
       " (u'VQW00011640', (27, 10)),\n",
       " (u'VMW00041010', (30, 4)),\n",
       " (u'VQC00672560', (0, 1)),\n",
       " (u'VMW00041011', (0, 1)),\n",
       " (u'VQC00672551', (0, 1)),\n",
       " (u'ZI000067775', (570, 2))]"
      ]
     },
     "execution_count": 37,
     "metadata": {},
     "output_type": "execute_result"
    }
   ],
   "source": [
    "testrddAddByKey1.collect()"
   ]
  },
  {
   "cell_type": "code",
   "execution_count": 16,
   "metadata": {
    "collapsed": true
   },
   "outputs": [],
   "source": [
    "a= [(u'WFM00091754', (12, 4)),\n",
    " (u'VQC00676000', (0, 1)),\n",
    " (u'VQW00011624', (0, 1)),\n",
    " (u'VMM00048914', (0, 1)),\n",
    " (u'VQW00011640', (27, 10)),\n",
    " (u'VMW00041010', (30, 4)),\n",
    " (u'VQC00672560', (0, 1)),\n",
    " (u'VMW00041011', (0, 1)),\n",
    " (u'VQC00672551', (0, 1)),\n",
    " (u'ZI000067775', (570, 2))]\n",
    "b=[(u'WFM00091754', (12, 4)),\n",
    " (u'VQC00676000', (0, 1)),\n",
    " (u'VQW00011624', (0, 1)),\n",
    " (u'VMM00048914', (0, 1)),\n",
    " (u'VQW00011640', (27, 10)),\n",
    " (u'VMW00041010', (30, 4)),\n",
    " (u'VQC00672560', (0, 1)),\n",
    " (u'VMW00041011', (0, 1)),\n",
    " (u'VQC00672551', (0, 1)),\n",
    " (u'ZI000067775', (570, 2))]"
   ]
  },
  {
   "cell_type": "code",
   "execution_count": 26,
   "metadata": {
    "collapsed": false
   },
   "outputs": [
    {
     "name": "stdout",
     "output_type": "stream",
     "text": [
      "[(u'WFM00091754', (12, 4)), (u'VQC00676000', (0, 1)), (u'VQW00011624', (0, 1)), (u'VMM00048914', (0, 1)), (u'VQW00011640', (27, 10)), (u'VMW00041010', (30, 4)), (u'VQC00672560', (0, 1)), (u'VMW00041011', (0, 1)), (u'VQC00672551', (0, 1)), (u'ZI000067775', (570, 2))]\n",
      "10\n",
      "(u'ZI000067775', (570, 2))\n"
     ]
    }
   ],
   "source": [
    "print a\n",
    "print len(a)\n",
    "print max(a)"
   ]
  },
  {
   "cell_type": "code",
   "execution_count": 18,
   "metadata": {
    "collapsed": true
   },
   "outputs": [],
   "source": [
    "zipab = zip (a,b)"
   ]
  },
  {
   "cell_type": "code",
   "execution_count": 21,
   "metadata": {
    "collapsed": false
   },
   "outputs": [
    {
     "data": {
      "text/plain": [
       "[((u'WFM00091754', (12, 4)), (u'WFM00091754', (12, 4))),\n",
       " ((u'VQC00676000', (0, 1)), (u'VQC00676000', (0, 1))),\n",
       " ((u'VQW00011624', (0, 1)), (u'VQW00011624', (0, 1))),\n",
       " ((u'VMM00048914', (0, 1)), (u'VMM00048914', (0, 1))),\n",
       " ((u'VQW00011640', (27, 10)), (u'VQW00011640', (27, 10))),\n",
       " ((u'VMW00041010', (30, 4)), (u'VMW00041010', (30, 4))),\n",
       " ((u'VQC00672560', (0, 1)), (u'VQC00672560', (0, 1))),\n",
       " ((u'VMW00041011', (0, 1)), (u'VMW00041011', (0, 1))),\n",
       " ((u'VQC00672551', (0, 1)), (u'VQC00672551', (0, 1))),\n",
       " ((u'ZI000067775', (570, 2)), (u'ZI000067775', (570, 2)))]"
      ]
     },
     "execution_count": 21,
     "metadata": {},
     "output_type": "execute_result"
    }
   ],
   "source": [
    "zipab"
   ]
  },
  {
   "cell_type": "code",
   "execution_count": 23,
   "metadata": {
    "collapsed": false
   },
   "outputs": [
    {
     "name": "stdout",
     "output_type": "stream",
     "text": [
      "10\n"
     ]
    },
    {
     "data": {
      "text/plain": [
       "((u'ZI000067775', (570, 2)), (u'ZI000067775', (570, 2)))"
      ]
     },
     "execution_count": 23,
     "metadata": {},
     "output_type": "execute_result"
    }
   ],
   "source": [
    "print len(zipab)\n",
    "max(zipab)"
   ]
  },
  {
   "cell_type": "markdown",
   "metadata": {},
   "source": [
    "testrdd1"
   ]
  },
  {
   "cell_type": "code",
   "execution_count": 3,
   "metadata": {
    "collapsed": false
   },
   "outputs": [
    {
     "name": "stdout",
     "output_type": "stream",
     "text": [
      "10\n"
     ]
    },
    {
     "data": {
      "text/plain": [
       "[(u'WFM00091754', (3, 1, 5, 1, 4, 2)),\n",
       " (u'VQC00676000', (0, 1)),\n",
       " (u'VQW00011624', (0, 1)),\n",
       " (u'VMM00048914', (0, 1)),\n",
       " (u'VQW00011640', (0, 1, 8, 1, 7, 3, 6, 2, 6, 3)),\n",
       " (u'VMW00041010', (11, 1, 0, 1, 9, 1, 10, 1)),\n",
       " (u'VQC00672560', (0, 1)),\n",
       " (u'VMW00041011', (0, 1)),\n",
       " (u'VQC00672551', (0, 1)),\n",
       " (u'ZI000067775', (290, 1, 280, 1))]"
      ]
     },
     "execution_count": 3,
     "metadata": {},
     "output_type": "execute_result"
    }
   ],
   "source": [
    "#weatherPrecpAddByKey = weatherPrecpCountByKey.reduceByKey(lambda v1,v2 : (v1[0]+v2[0], v1[1]+v2[1]))\n",
    "testrddAddByKey11 = testrdd1.reduceByKey(lambda v1,v2 : v1 + v2) #reduceByKey will group the result by key\n",
    "print testrddAddByKey11.count()\n",
    "testrddAddByKey11.collect()"
   ]
  },
  {
   "cell_type": "code",
   "execution_count": 4,
   "metadata": {
    "collapsed": false
   },
   "outputs": [
    {
     "name": "stdout",
     "output_type": "stream",
     "text": [
      "10\n"
     ]
    },
    {
     "data": {
      "text/plain": [
       "[(u'WFM00091754', (3, 1, 5, 1, 4, 2)),\n",
       " (u'VQC00676000', (0, 1)),\n",
       " (u'VQW00011624', (0, 1)),\n",
       " (u'VMM00048914', (0, 1)),\n",
       " (u'VQW00011640', (0, 1, 8, 1, 7, 3, 6, 2, 6, 3)),\n",
       " (u'VMW00041010', (11, 1, 0, 1, 9, 1, 10, 1)),\n",
       " (u'VQC00672560', (0, 1)),\n",
       " (u'VMW00041011', (0, 1)),\n",
       " (u'VQC00672551', (0, 1)),\n",
       " (u'ZI000067775', (290, 1, 280, 1))]"
      ]
     },
     "execution_count": 4,
     "metadata": {},
     "output_type": "execute_result"
    }
   ],
   "source": [
    "# .reduceByKey(lambda x, y: map(max, zip(x, y)))\n",
    "#weatherPrecpAddByKey = weatherPrecpCountByKey.reduceByKey(lambda v1,v2 : (v1[0]+v2[0], v1[1]+v2[1]))\n",
    "testrddAddByKey12 = testrdd1.reduceByKey(lambda x, y:  x+ y) #reduceByKey will group the result by key\n",
    "print testrddAddByKey12.count()\n",
    "testrddAddByKey12.collect()"
   ]
  },
  {
   "cell_type": "code",
   "execution_count": 5,
   "metadata": {
    "collapsed": false
   },
   "outputs": [
    {
     "data": {
      "text/plain": [
       "[(u'VMW00041010', (11, 1)),\n",
       " (u'ZI000067775', (290, 1)),\n",
       " (u'ZI000067775', (280, 1)),\n",
       " (u'WFM00091754', (3, 1)),\n",
       " (u'WFM00091754', (5, 1)),\n",
       " (u'WFM00091754', (4, 2)),\n",
       " (u'VQW00011640', (0, 1)),\n",
       " (u'VQW00011640', (8, 1)),\n",
       " (u'VQW00011640', (7, 3)),\n",
       " (u'VQW00011640', (6, 2)),\n",
       " (u'VQW00011640', (6, 3)),\n",
       " (u'VQW00011624', (0, 1)),\n",
       " (u'VQC00676000', (0, 1)),\n",
       " (u'VQC00672560', (0, 1)),\n",
       " (u'VQC00672551', (0, 1)),\n",
       " (u'VMW00041011', (0, 1)),\n",
       " (u'VMW00041010', (0, 1)),\n",
       " (u'VMW00041010', (9, 1)),\n",
       " (u'VMW00041010', (10, 1)),\n",
       " (u'VMM00048914', (0, 1))]"
      ]
     },
     "execution_count": 5,
     "metadata": {},
     "output_type": "execute_result"
    }
   ],
   "source": [
    "testrdd1.collect()"
   ]
  },
  {
   "cell_type": "code",
   "execution_count": 6,
   "metadata": {
    "collapsed": false
   },
   "outputs": [
    {
     "name": "stdout",
     "output_type": "stream",
     "text": [
      "10\n"
     ]
    },
    {
     "data": {
      "text/plain": [
       "[(u'WFM00091754', [((3, 5), 4), ((1, 1), 2)]),\n",
       " (u'VQC00676000', (0, 1)),\n",
       " (u'VQW00011624', (0, 1)),\n",
       " (u'VMM00048914', (0, 1)),\n",
       " (u'VQW00011640', [((((0, 8), 7), 6), 6), ((((1, 1), 3), 2), 3)]),\n",
       " (u'VMW00041010', [(((11, 0), 9), 10), (((1, 1), 1), 1)]),\n",
       " (u'VQC00672560', (0, 1)),\n",
       " (u'VMW00041011', (0, 1)),\n",
       " (u'VQC00672551', (0, 1)),\n",
       " (u'ZI000067775', [(290, 280), (1, 1)])]"
      ]
     },
     "execution_count": 6,
     "metadata": {},
     "output_type": "execute_result"
    }
   ],
   "source": [
    "# .reduceByKey(lambda x, y: map(max, zip(x, y)))\n",
    "#weatherPrecpAddByKey = weatherPrecpCountByKey.reduceByKey(lambda v1,v2 : (v1[0]+v2[0], v1[1]+v2[1]))\n",
    "testrddAddByKey12 = testrdd1.reduceByKey(lambda x, y:  zip(x, y)) #reduceByKey will group the result by key\n",
    "print testrddAddByKey12.count()\n",
    "testrddAddByKey12.collect()"
   ]
  },
  {
   "cell_type": "code",
   "execution_count": 34,
   "metadata": {
    "collapsed": false
   },
   "outputs": [
    {
     "name": "stdout",
     "output_type": "stream",
     "text": [
      "10\n"
     ]
    },
    {
     "data": {
      "text/plain": [
       "[(u'WFM00091754', [5, 2]),\n",
       " (u'VQC00676000', (0, 1)),\n",
       " (u'VQW00011624', (0, 1)),\n",
       " (u'VMM00048914', (0, 1)),\n",
       " (u'VQW00011640', [8, 3]),\n",
       " (u'VMW00041010', [11, 1]),\n",
       " (u'VQC00672560', (0, 1)),\n",
       " (u'VMW00041011', (0, 1)),\n",
       " (u'VQC00672551', (0, 1)),\n",
       " (u'ZI000067775', [290, 1])]"
      ]
     },
     "execution_count": 34,
     "metadata": {},
     "output_type": "execute_result"
    }
   ],
   "source": [
    "# .reduceByKey(lambda x, y: map(max, zip(x, y)))\n",
    "#weatherPrecpAddByKey = weatherPrecpCountByKey.reduceByKey(lambda v1,v2 : (v1[0]+v2[0], v1[1]+v2[1]))\n",
    "testrddAddByKey12 = testrdd1.reduceByKey(lambda x, y: map(max,zip(x, y)) ) #reduceByKey will group the result by key\n",
    "print testrddAddByKey12.count()\n",
    "testrddAddByKey12.collect()"
   ]
  },
  {
   "cell_type": "code",
   "execution_count": 15,
   "metadata": {
    "collapsed": false
   },
   "outputs": [
    {
     "name": "stdout",
     "output_type": "stream",
     "text": [
      "10\n"
     ]
    },
    {
     "data": {
      "text/plain": [
       "[(u'WFM00091754', [5, 2]),\n",
       " (u'VQC00676000', (0, 1)),\n",
       " (u'VQW00011624', (0, 1)),\n",
       " (u'VMM00048914', (0, 1)),\n",
       " (u'VQW00011640', [8, 3]),\n",
       " (u'VMW00041010', [11, 1]),\n",
       " (u'VQC00672560', (0, 1)),\n",
       " (u'VMW00041011', (0, 1)),\n",
       " (u'VQC00672551', (0, 1)),\n",
       " (u'ZI000067775', [290, 1])]"
      ]
     },
     "execution_count": 15,
     "metadata": {},
     "output_type": "execute_result"
    }
   ],
   "source": [
    "# .reduceByKey(lambda x, y: map(max, zip(x, y)))\n",
    "#weatherPrecpAddByKey = weatherPrecpCountByKey.reduceByKey(lambda v1,v2 : (v1[0]+v2[0], v1[1]+v2[1]))\n",
    "testrddAddByKey12 = testrdd1.reduceByKey(lambda x, y: map(max, zip(x, y))) #reduceByKey will group the result by key\n",
    "print testrddAddByKey12.count()\n",
    "testrddAddByKey12.collect()"
   ]
  },
  {
   "cell_type": "code",
   "execution_count": 7,
   "metadata": {
    "collapsed": false
   },
   "outputs": [
    {
     "name": "stdout",
     "output_type": "stream",
     "text": [
      "20\n"
     ]
    },
    {
     "data": {
      "text/plain": [
       "[11, 290, 280, 3, 5, 4, 1, 8, 7, 6, 6, 1, 1, 1, 1, 1, 1, 9, 10, 1]"
      ]
     },
     "execution_count": 7,
     "metadata": {},
     "output_type": "execute_result"
    }
   ],
   "source": [
    "# .reduceByKey(lambda x, y: map(max, zip(x, y)))\n",
    "#weatherPrecpAddByKey = weatherPrecpCountByKey.reduceByKey(lambda v1,v2 : (v1[0]+v2[0], v1[1]+v2[1]))\n",
    "testrddAddByKey12 = testrdd1.map(lambda (_,x): max(x)) #reduceByKey will group the result by key\n",
    "#(_, (followers, friends)):\n",
    "print testrddAddByKey12.count()\n",
    "testrddAddByKey12.collect()"
   ]
  },
  {
   "cell_type": "code",
   "execution_count": 8,
   "metadata": {
    "collapsed": false
   },
   "outputs": [
    {
     "name": "stdout",
     "output_type": "stream",
     "text": [
      "20\n"
     ]
    },
    {
     "data": {
      "text/plain": [
       "[u'VMW00041010',\n",
       " u'ZI000067775',\n",
       " u'ZI000067775',\n",
       " u'WFM00091754',\n",
       " u'WFM00091754',\n",
       " u'WFM00091754',\n",
       " u'VQW00011640',\n",
       " u'VQW00011640',\n",
       " u'VQW00011640',\n",
       " u'VQW00011640',\n",
       " u'VQW00011640',\n",
       " u'VQW00011624',\n",
       " u'VQC00676000',\n",
       " u'VQC00672560',\n",
       " u'VQC00672551',\n",
       " u'VMW00041011',\n",
       " u'VMW00041010',\n",
       " u'VMW00041010',\n",
       " u'VMW00041010',\n",
       " u'VMM00048914']"
      ]
     },
     "execution_count": 8,
     "metadata": {},
     "output_type": "execute_result"
    }
   ],
   "source": [
    "# .reduceByKey(lambda x, y: map(max, zip(x, y)))\n",
    "#weatherPrecpAddByKey = weatherPrecpCountByKey.reduceByKey(lambda v1,v2 : (v1[0]+v2[0], v1[1]+v2[1]))\n",
    "testrddAddByKey12 = testrdd1.map(lambda x: max(x)) #reduceByKey will group the result by key\n",
    "#(_, (followers, friends)):\n",
    "print testrddAddByKey12.count()\n",
    "testrddAddByKey12.collect()"
   ]
  },
  {
   "cell_type": "code",
   "execution_count": 9,
   "metadata": {
    "collapsed": false
   },
   "outputs": [
    {
     "name": "stdout",
     "output_type": "stream",
     "text": [
      "20\n"
     ]
    },
    {
     "data": {
      "text/plain": [
       "[(u'VMW00041010', (11, 1)),\n",
       " (u'ZI000067775', (290, 1)),\n",
       " (u'ZI000067775', (280, 1)),\n",
       " (u'WFM00091754', (3, 1)),\n",
       " (u'WFM00091754', (5, 1)),\n",
       " (u'WFM00091754', (4, 2)),\n",
       " (u'VQW00011640', (0, 1)),\n",
       " (u'VQW00011640', (8, 1)),\n",
       " (u'VQW00011640', (7, 3)),\n",
       " (u'VQW00011640', (6, 2)),\n",
       " (u'VQW00011640', (6, 3)),\n",
       " (u'VQW00011624', (0, 1)),\n",
       " (u'VQC00676000', (0, 1)),\n",
       " (u'VQC00672560', (0, 1)),\n",
       " (u'VQC00672551', (0, 1)),\n",
       " (u'VMW00041011', (0, 1)),\n",
       " (u'VMW00041010', (0, 1)),\n",
       " (u'VMW00041010', (9, 1)),\n",
       " (u'VMW00041010', (10, 1)),\n",
       " (u'VMM00048914', (0, 1))]"
      ]
     },
     "execution_count": 9,
     "metadata": {},
     "output_type": "execute_result"
    }
   ],
   "source": [
    "# .reduceByKey(lambda x, y: map(max, zip(x, y)))\n",
    "#weatherPrecpAddByKey = weatherPrecpCountByKey.reduceByKey(lambda v1,v2 : (v1[0]+v2[0], v1[1]+v2[1]))\n",
    "testrddAddByKey12 = testrdd1.map(lambda x: x) #reduceByKey will group the result by key\n",
    "#(_, (followers, friends)):\n",
    "print testrddAddByKey12.count()\n",
    "testrddAddByKey12.collect()"
   ]
  },
  {
   "cell_type": "code",
   "execution_count": 10,
   "metadata": {
    "collapsed": false
   },
   "outputs": [
    {
     "name": "stdout",
     "output_type": "stream",
     "text": [
      "20\n"
     ]
    },
    {
     "data": {
      "text/plain": [
       "[(11, 1),\n",
       " (290, 1),\n",
       " (280, 1),\n",
       " (3, 1),\n",
       " (5, 1),\n",
       " (4, 2),\n",
       " (0, 1),\n",
       " (8, 1),\n",
       " (7, 3),\n",
       " (6, 2),\n",
       " (6, 3),\n",
       " (0, 1),\n",
       " (0, 1),\n",
       " (0, 1),\n",
       " (0, 1),\n",
       " (0, 1),\n",
       " (0, 1),\n",
       " (9, 1),\n",
       " (10, 1),\n",
       " (0, 1)]"
      ]
     },
     "execution_count": 10,
     "metadata": {},
     "output_type": "execute_result"
    }
   ],
   "source": [
    "# .reduceByKey(lambda x, y: map(max, zip(x, y)))\n",
    "#weatherPrecpAddByKey = weatherPrecpCountByKey.reduceByKey(lambda v1,v2 : (v1[0]+v2[0], v1[1]+v2[1]))\n",
    "testrddAddByKey12 = testrdd1.map(lambda x: x[1]) #reduceByKey will group the result by key\n",
    "#(_, (followers, friends)):\n",
    "print testrddAddByKey12.count()\n",
    "testrddAddByKey12.collect()"
   ]
  },
  {
   "cell_type": "code",
   "execution_count": 14,
   "metadata": {
    "collapsed": false
   },
   "outputs": [
    {
     "name": "stdout",
     "output_type": "stream",
     "text": [
      "20\n"
     ]
    },
    {
     "data": {
      "text/plain": [
       "[11, 290, 280, 3, 5, 4, 1, 8, 7, 6, 6, 1, 1, 1, 1, 1, 1, 9, 10, 1]"
      ]
     },
     "execution_count": 14,
     "metadata": {},
     "output_type": "execute_result"
    }
   ],
   "source": [
    "# .reduceByKey(lambda x, y: map(max, zip(x, y)))\n",
    "#weatherPrecpAddByKey = weatherPrecpCountByKey.reduceByKey(lambda v1,v2 : (v1[0]+v2[0], v1[1]+v2[1]))\n",
    "testrddAddByKey12 = testrdd1.map(lambda x: max(x[1])) #reduceByKey will group the result by key\n",
    "#(_, (followers, friends)):\n",
    "print testrddAddByKey12.count()\n",
    "testrddAddByKey12.collect()"
   ]
  },
  {
   "cell_type": "code",
   "execution_count": 12,
   "metadata": {
    "collapsed": false
   },
   "outputs": [
    {
     "name": "stdout",
     "output_type": "stream",
     "text": [
      "20\n"
     ]
    },
    {
     "data": {
      "text/plain": [
       "[u'VMW00041010',\n",
       " u'ZI000067775',\n",
       " u'ZI000067775',\n",
       " u'WFM00091754',\n",
       " u'WFM00091754',\n",
       " u'WFM00091754',\n",
       " u'VQW00011640',\n",
       " u'VQW00011640',\n",
       " u'VQW00011640',\n",
       " u'VQW00011640',\n",
       " u'VQW00011640',\n",
       " u'VQW00011624',\n",
       " u'VQC00676000',\n",
       " u'VQC00672560',\n",
       " u'VQC00672551',\n",
       " u'VMW00041011',\n",
       " u'VMW00041010',\n",
       " u'VMW00041010',\n",
       " u'VMW00041010',\n",
       " u'VMM00048914']"
      ]
     },
     "execution_count": 12,
     "metadata": {},
     "output_type": "execute_result"
    }
   ],
   "source": [
    "# .reduceByKey(lambda x, y: map(max, zip(x, y)))\n",
    "#weatherPrecpAddByKey = weatherPrecpCountByKey.reduceByKey(lambda v1,v2 : (v1[0]+v2[0], v1[1]+v2[1]))\n",
    "testrddAddByKey12 = testrdd1.map(lambda x: max(x)) #reduceByKey will group the result by key\n",
    "#(_, (followers, friends)):\n",
    "print testrddAddByKey12.count()\n",
    "testrddAddByKey12.collect()"
   ]
  },
  {
   "cell_type": "code",
   "execution_count": 14,
   "metadata": {
    "collapsed": false
   },
   "outputs": [
    {
     "name": "stdout",
     "output_type": "stream",
     "text": [
      "20\n"
     ]
    },
    {
     "data": {
      "text/plain": [
       "[1, 1, 1, 1, 1, 2, 0, 1, 3, 2, 3, 0, 0, 0, 0, 0, 0, 1, 1, 0]"
      ]
     },
     "execution_count": 14,
     "metadata": {},
     "output_type": "execute_result"
    }
   ],
   "source": [
    "# .reduceByKey(lambda x, y: map(max, zip(x, y)))\n",
    "#weatherPrecpAddByKey = weatherPrecpCountByKey.reduceByKey(lambda v1,v2 : (v1[0]+v2[0], v1[1]+v2[1]))\n",
    "testrddAddByKey12 = testrdd1.map(lambda (_,x): min(x)) #reduceByKey will group the result by key\n",
    "#(_, (followers, friends)):\n",
    "print testrddAddByKey12.count()\n",
    "testrddAddByKey12.collect()"
   ]
  },
  {
   "cell_type": "code",
   "execution_count": 56,
   "metadata": {
    "collapsed": false
   },
   "outputs": [
    {
     "data": {
      "text/plain": [
       "[(u'VMW00041010', (11, 1)),\n",
       " (u'ZI000067775', (290, 1)),\n",
       " (u'ZI000067775', (280, 1)),\n",
       " (u'WFM00091754', (3, 1)),\n",
       " (u'WFM00091754', (5, 1)),\n",
       " (u'WFM00091754', (4, 2)),\n",
       " (u'VQW00011640', (0, 1)),\n",
       " (u'VQW00011640', (8, 1)),\n",
       " (u'VQW00011640', (7, 3)),\n",
       " (u'VQW00011640', (6, 2)),\n",
       " (u'VQW00011640', (6, 3)),\n",
       " (u'VQW00011624', (0, 1)),\n",
       " (u'VQC00676000', (0, 1)),\n",
       " (u'VQC00672560', (0, 1)),\n",
       " (u'VQC00672551', (0, 1)),\n",
       " (u'VMW00041011', (0, 1)),\n",
       " (u'VMW00041010', (0, 1)),\n",
       " (u'VMW00041010', (9, 1)),\n",
       " (u'VMW00041010', (10, 1)),\n",
       " (u'VMM00048914', (0, 1))]"
      ]
     },
     "execution_count": 56,
     "metadata": {},
     "output_type": "execute_result"
    }
   ],
   "source": [
    "testrdd1.collect()"
   ]
  },
  {
   "cell_type": "code",
   "execution_count": 59,
   "metadata": {
    "collapsed": true
   },
   "outputs": [],
   "source": [
    "t1 = ((u'VMW00041010', (11, 1)),\n",
    " (u'ZI000067775', (290, 1)),\n",
    " (u'ZI000067775', (280, 1)),\n",
    " (u'WFM00091754', (3, 1)),\n",
    " (u'WFM00091754', (5, 1)),\n",
    " (u'WFM00091754', (4, 2)),\n",
    " (u'VQW00011640', (0, 1)),\n",
    " (u'VQW00011640', (8, 1)),\n",
    " (u'VQW00011640', (7, 3)),\n",
    " (u'VQW00011640', (6, 2)),\n",
    " (u'VQW00011640', (6, 3)),\n",
    " (u'VQW00011624', (0, 1)),\n",
    " (u'VQC00676000', (0, 1)),\n",
    " (u'VQC00672560', (0, 1)),\n",
    " (u'VQC00672551', (0, 1)),\n",
    " (u'VMW00041011', (0, 1)),\n",
    " (u'VMW00041010', (0, 1)),\n",
    " (u'VMW00041010', (9, 1)),\n",
    " (u'VMW00041010', (10, 1)),\n",
    " (u'VMM00048914', (0, 1)))"
   ]
  },
  {
   "cell_type": "code",
   "execution_count": 61,
   "metadata": {
    "collapsed": false
   },
   "outputs": [
    {
     "ename": "NameError",
     "evalue": "name 'x' is not defined",
     "output_type": "error",
     "traceback": [
      "\u001b[1;31m---------------------------------------------------------------------------\u001b[0m",
      "\u001b[1;31mNameError\u001b[0m                                 Traceback (most recent call last)",
      "\u001b[1;32m<ipython-input-61-b77e8c305cb6>\u001b[0m in \u001b[0;36m<module>\u001b[1;34m()\u001b[0m\n\u001b[1;32m----> 1\u001b[1;33m \u001b[0mmap\u001b[0m\u001b[1;33m(\u001b[0m\u001b[1;32mlambda\u001b[0m \u001b[0mx\u001b[0m\u001b[1;33m,\u001b[0m \u001b[0my\u001b[0m\u001b[1;33m:\u001b[0m \u001b[0mzip\u001b[0m\u001b[1;33m(\u001b[0m\u001b[0mx\u001b[0m\u001b[1;33m,\u001b[0m \u001b[0my\u001b[0m\u001b[1;33m)\u001b[0m \u001b[1;33m,\u001b[0m \u001b[0mx\u001b[0m\u001b[1;33m,\u001b[0m \u001b[0my\u001b[0m \u001b[1;32min\u001b[0m \u001b[0mt1\u001b[0m\u001b[1;33m)\u001b[0m\u001b[1;33m\u001b[0m\u001b[0m\n\u001b[0m",
      "\u001b[1;31mNameError\u001b[0m: name 'x' is not defined"
     ]
    }
   ],
   "source": [
    "map(lambda x, y: zip(x, y) , x, y in t1)"
   ]
  },
  {
   "cell_type": "code",
   "execution_count": 58,
   "metadata": {
    "collapsed": false
   },
   "outputs": [
    {
     "ename": "Py4JJavaError",
     "evalue": "An error occurred while calling z:org.apache.spark.api.python.PythonRDD.collectAndServe.\n: org.apache.spark.SparkException: Job aborted due to stage failure: Task 0 in stage 57.0 failed 1 times, most recent failure: Lost task 0.0 in stage 57.0 (TID 53, localhost): org.apache.spark.api.python.PythonException: Traceback (most recent call last):\n  File \"/usr/local/bin/spark-1.3.1-bin-hadoop2.6/python/pyspark/worker.py\", line 101, in main\n    process()\n  File \"/usr/local/bin/spark-1.3.1-bin-hadoop2.6/python/pyspark/worker.py\", line 96, in process\n    serializer.dump_stream(func(split_index, iterator), outfile)\n  File \"/usr/local/bin/spark-1.3.1-bin-hadoop2.6/python/pyspark/rdd.py\", line 2252, in pipeline_func\n    return func(split, prev_func(split, iterator))\n  File \"/usr/local/bin/spark-1.3.1-bin-hadoop2.6/python/pyspark/rdd.py\", line 2252, in pipeline_func\n    return func(split, prev_func(split, iterator))\n  File \"/usr/local/bin/spark-1.3.1-bin-hadoop2.6/python/pyspark/rdd.py\", line 2252, in pipeline_func\n    return func(split, prev_func(split, iterator))\n  File \"/usr/local/bin/spark-1.3.1-bin-hadoop2.6/python/pyspark/rdd.py\", line 282, in func\n    return f(iterator)\n  File \"/usr/local/bin/spark-1.3.1-bin-hadoop2.6/python/pyspark/rdd.py\", line 932, in <lambda>\n    return self.mapPartitions(lambda i: [sum(1 for _ in i)]).sum()\n  File \"/usr/local/bin/spark-1.3.1-bin-hadoop2.6/python/pyspark/rdd.py\", line 932, in <genexpr>\n    return self.mapPartitions(lambda i: [sum(1 for _ in i)]).sum()\nTypeError: <lambda>() takes exactly 2 arguments (1 given)\n\n\tat org.apache.spark.api.python.PythonRDD$$anon$1.read(PythonRDD.scala:135)\n\tat org.apache.spark.api.python.PythonRDD$$anon$1.<init>(PythonRDD.scala:176)\n\tat org.apache.spark.api.python.PythonRDD.compute(PythonRDD.scala:94)\n\tat org.apache.spark.rdd.RDD.computeOrReadCheckpoint(RDD.scala:277)\n\tat org.apache.spark.rdd.RDD.iterator(RDD.scala:244)\n\tat org.apache.spark.scheduler.ResultTask.runTask(ResultTask.scala:61)\n\tat org.apache.spark.scheduler.Task.run(Task.scala:64)\n\tat org.apache.spark.executor.Executor$TaskRunner.run(Executor.scala:203)\n\tat java.util.concurrent.ThreadPoolExecutor.runWorker(ThreadPoolExecutor.java:1145)\n\tat java.util.concurrent.ThreadPoolExecutor$Worker.run(ThreadPoolExecutor.java:615)\n\tat java.lang.Thread.run(Thread.java:745)\n\nDriver stacktrace:\n\tat org.apache.spark.scheduler.DAGScheduler.org$apache$spark$scheduler$DAGScheduler$$failJobAndIndependentStages(DAGScheduler.scala:1204)\n\tat org.apache.spark.scheduler.DAGScheduler$$anonfun$abortStage$1.apply(DAGScheduler.scala:1193)\n\tat org.apache.spark.scheduler.DAGScheduler$$anonfun$abortStage$1.apply(DAGScheduler.scala:1192)\n\tat scala.collection.mutable.ResizableArray$class.foreach(ResizableArray.scala:59)\n\tat scala.collection.mutable.ArrayBuffer.foreach(ArrayBuffer.scala:47)\n\tat org.apache.spark.scheduler.DAGScheduler.abortStage(DAGScheduler.scala:1192)\n\tat org.apache.spark.scheduler.DAGScheduler$$anonfun$handleTaskSetFailed$1.apply(DAGScheduler.scala:693)\n\tat org.apache.spark.scheduler.DAGScheduler$$anonfun$handleTaskSetFailed$1.apply(DAGScheduler.scala:693)\n\tat scala.Option.foreach(Option.scala:236)\n\tat org.apache.spark.scheduler.DAGScheduler.handleTaskSetFailed(DAGScheduler.scala:693)\n\tat org.apache.spark.scheduler.DAGSchedulerEventProcessLoop.onReceive(DAGScheduler.scala:1393)\n\tat org.apache.spark.scheduler.DAGSchedulerEventProcessLoop.onReceive(DAGScheduler.scala:1354)\n\tat org.apache.spark.util.EventLoop$$anon$1.run(EventLoop.scala:48)\n",
     "output_type": "error",
     "traceback": [
      "\u001b[1;31m---------------------------------------------------------------------------\u001b[0m",
      "\u001b[1;31mPy4JJavaError\u001b[0m                             Traceback (most recent call last)",
      "\u001b[1;32m<ipython-input-58-04f9023fc1f8>\u001b[0m in \u001b[0;36m<module>\u001b[1;34m()\u001b[0m\n\u001b[0;32m      2\u001b[0m \u001b[1;31m#weatherPrecpAddByKey = weatherPrecpCountByKey.reduceByKey(lambda v1,v2 : (v1[0]+v2[0], v1[1]+v2[1]))\u001b[0m\u001b[1;33m\u001b[0m\u001b[1;33m\u001b[0m\u001b[0m\n\u001b[0;32m      3\u001b[0m \u001b[0mtestrddAddByKey13\u001b[0m \u001b[1;33m=\u001b[0m \u001b[0mtestrdd1\u001b[0m\u001b[1;33m.\u001b[0m\u001b[0mmap\u001b[0m\u001b[1;33m(\u001b[0m\u001b[1;32mlambda\u001b[0m \u001b[0mx\u001b[0m\u001b[1;33m,\u001b[0m \u001b[0my\u001b[0m\u001b[1;33m:\u001b[0m \u001b[0mmap\u001b[0m\u001b[1;33m(\u001b[0m\u001b[0mmax\u001b[0m\u001b[1;33m,\u001b[0m \u001b[0mzip\u001b[0m\u001b[1;33m(\u001b[0m\u001b[0mx\u001b[0m\u001b[1;33m,\u001b[0m \u001b[0my\u001b[0m\u001b[1;33m)\u001b[0m\u001b[1;33m)\u001b[0m\u001b[1;33m)\u001b[0m \u001b[1;31m#reduceByKey will group the result by key\u001b[0m\u001b[1;33m\u001b[0m\u001b[0m\n\u001b[1;32m----> 4\u001b[1;33m \u001b[1;32mprint\u001b[0m \u001b[0mtestrddAddByKey13\u001b[0m\u001b[1;33m.\u001b[0m\u001b[0mcount\u001b[0m\u001b[1;33m(\u001b[0m\u001b[1;33m)\u001b[0m\u001b[1;33m\u001b[0m\u001b[0m\n\u001b[0m\u001b[0;32m      5\u001b[0m \u001b[0mtestrddAddByKey13\u001b[0m\u001b[1;33m.\u001b[0m\u001b[0mcollect\u001b[0m\u001b[1;33m(\u001b[0m\u001b[1;33m)\u001b[0m\u001b[1;33m\u001b[0m\u001b[0m\n",
      "\u001b[1;32m/usr/local/bin/spark-1.3.1-bin-hadoop2.6/python/pyspark/rdd.py\u001b[0m in \u001b[0;36mcount\u001b[1;34m(self)\u001b[0m\n\u001b[0;32m    930\u001b[0m         \u001b[1;36m3\u001b[0m\u001b[1;33m\u001b[0m\u001b[0m\n\u001b[0;32m    931\u001b[0m         \"\"\"\n\u001b[1;32m--> 932\u001b[1;33m         \u001b[1;32mreturn\u001b[0m \u001b[0mself\u001b[0m\u001b[1;33m.\u001b[0m\u001b[0mmapPartitions\u001b[0m\u001b[1;33m(\u001b[0m\u001b[1;32mlambda\u001b[0m \u001b[0mi\u001b[0m\u001b[1;33m:\u001b[0m \u001b[1;33m[\u001b[0m\u001b[0msum\u001b[0m\u001b[1;33m(\u001b[0m\u001b[1;36m1\u001b[0m \u001b[1;32mfor\u001b[0m \u001b[0m_\u001b[0m \u001b[1;32min\u001b[0m \u001b[0mi\u001b[0m\u001b[1;33m)\u001b[0m\u001b[1;33m]\u001b[0m\u001b[1;33m)\u001b[0m\u001b[1;33m.\u001b[0m\u001b[0msum\u001b[0m\u001b[1;33m(\u001b[0m\u001b[1;33m)\u001b[0m\u001b[1;33m\u001b[0m\u001b[0m\n\u001b[0m\u001b[0;32m    933\u001b[0m \u001b[1;33m\u001b[0m\u001b[0m\n\u001b[0;32m    934\u001b[0m     \u001b[1;32mdef\u001b[0m \u001b[0mstats\u001b[0m\u001b[1;33m(\u001b[0m\u001b[0mself\u001b[0m\u001b[1;33m)\u001b[0m\u001b[1;33m:\u001b[0m\u001b[1;33m\u001b[0m\u001b[0m\n",
      "\u001b[1;32m/usr/local/bin/spark-1.3.1-bin-hadoop2.6/python/pyspark/rdd.py\u001b[0m in \u001b[0;36msum\u001b[1;34m(self)\u001b[0m\n\u001b[0;32m    921\u001b[0m         \u001b[1;36m6.0\u001b[0m\u001b[1;33m\u001b[0m\u001b[0m\n\u001b[0;32m    922\u001b[0m         \"\"\"\n\u001b[1;32m--> 923\u001b[1;33m         \u001b[1;32mreturn\u001b[0m \u001b[0mself\u001b[0m\u001b[1;33m.\u001b[0m\u001b[0mmapPartitions\u001b[0m\u001b[1;33m(\u001b[0m\u001b[1;32mlambda\u001b[0m \u001b[0mx\u001b[0m\u001b[1;33m:\u001b[0m \u001b[1;33m[\u001b[0m\u001b[0msum\u001b[0m\u001b[1;33m(\u001b[0m\u001b[0mx\u001b[0m\u001b[1;33m)\u001b[0m\u001b[1;33m]\u001b[0m\u001b[1;33m)\u001b[0m\u001b[1;33m.\u001b[0m\u001b[0mreduce\u001b[0m\u001b[1;33m(\u001b[0m\u001b[0moperator\u001b[0m\u001b[1;33m.\u001b[0m\u001b[0madd\u001b[0m\u001b[1;33m)\u001b[0m\u001b[1;33m\u001b[0m\u001b[0m\n\u001b[0m\u001b[0;32m    924\u001b[0m \u001b[1;33m\u001b[0m\u001b[0m\n\u001b[0;32m    925\u001b[0m     \u001b[1;32mdef\u001b[0m \u001b[0mcount\u001b[0m\u001b[1;33m(\u001b[0m\u001b[0mself\u001b[0m\u001b[1;33m)\u001b[0m\u001b[1;33m:\u001b[0m\u001b[1;33m\u001b[0m\u001b[0m\n",
      "\u001b[1;32m/usr/local/bin/spark-1.3.1-bin-hadoop2.6/python/pyspark/rdd.py\u001b[0m in \u001b[0;36mreduce\u001b[1;34m(self, f)\u001b[0m\n\u001b[0;32m    737\u001b[0m             \u001b[1;32myield\u001b[0m \u001b[0mreduce\u001b[0m\u001b[1;33m(\u001b[0m\u001b[0mf\u001b[0m\u001b[1;33m,\u001b[0m \u001b[0miterator\u001b[0m\u001b[1;33m,\u001b[0m \u001b[0minitial\u001b[0m\u001b[1;33m)\u001b[0m\u001b[1;33m\u001b[0m\u001b[0m\n\u001b[0;32m    738\u001b[0m \u001b[1;33m\u001b[0m\u001b[0m\n\u001b[1;32m--> 739\u001b[1;33m         \u001b[0mvals\u001b[0m \u001b[1;33m=\u001b[0m \u001b[0mself\u001b[0m\u001b[1;33m.\u001b[0m\u001b[0mmapPartitions\u001b[0m\u001b[1;33m(\u001b[0m\u001b[0mfunc\u001b[0m\u001b[1;33m)\u001b[0m\u001b[1;33m.\u001b[0m\u001b[0mcollect\u001b[0m\u001b[1;33m(\u001b[0m\u001b[1;33m)\u001b[0m\u001b[1;33m\u001b[0m\u001b[0m\n\u001b[0m\u001b[0;32m    740\u001b[0m         \u001b[1;32mif\u001b[0m \u001b[0mvals\u001b[0m\u001b[1;33m:\u001b[0m\u001b[1;33m\u001b[0m\u001b[0m\n\u001b[0;32m    741\u001b[0m             \u001b[1;32mreturn\u001b[0m \u001b[0mreduce\u001b[0m\u001b[1;33m(\u001b[0m\u001b[0mf\u001b[0m\u001b[1;33m,\u001b[0m \u001b[0mvals\u001b[0m\u001b[1;33m)\u001b[0m\u001b[1;33m\u001b[0m\u001b[0m\n",
      "\u001b[1;32m/usr/local/bin/spark-1.3.1-bin-hadoop2.6/python/pyspark/rdd.py\u001b[0m in \u001b[0;36mcollect\u001b[1;34m(self)\u001b[0m\n\u001b[0;32m    711\u001b[0m         \"\"\"\n\u001b[0;32m    712\u001b[0m         \u001b[1;32mwith\u001b[0m \u001b[0mSCCallSiteSync\u001b[0m\u001b[1;33m(\u001b[0m\u001b[0mself\u001b[0m\u001b[1;33m.\u001b[0m\u001b[0mcontext\u001b[0m\u001b[1;33m)\u001b[0m \u001b[1;32mas\u001b[0m \u001b[0mcss\u001b[0m\u001b[1;33m:\u001b[0m\u001b[1;33m\u001b[0m\u001b[0m\n\u001b[1;32m--> 713\u001b[1;33m             \u001b[0mport\u001b[0m \u001b[1;33m=\u001b[0m \u001b[0mself\u001b[0m\u001b[1;33m.\u001b[0m\u001b[0mctx\u001b[0m\u001b[1;33m.\u001b[0m\u001b[0m_jvm\u001b[0m\u001b[1;33m.\u001b[0m\u001b[0mPythonRDD\u001b[0m\u001b[1;33m.\u001b[0m\u001b[0mcollectAndServe\u001b[0m\u001b[1;33m(\u001b[0m\u001b[0mself\u001b[0m\u001b[1;33m.\u001b[0m\u001b[0m_jrdd\u001b[0m\u001b[1;33m.\u001b[0m\u001b[0mrdd\u001b[0m\u001b[1;33m(\u001b[0m\u001b[1;33m)\u001b[0m\u001b[1;33m)\u001b[0m\u001b[1;33m\u001b[0m\u001b[0m\n\u001b[0m\u001b[0;32m    714\u001b[0m         \u001b[1;32mreturn\u001b[0m \u001b[0mlist\u001b[0m\u001b[1;33m(\u001b[0m\u001b[0m_load_from_socket\u001b[0m\u001b[1;33m(\u001b[0m\u001b[0mport\u001b[0m\u001b[1;33m,\u001b[0m \u001b[0mself\u001b[0m\u001b[1;33m.\u001b[0m\u001b[0m_jrdd_deserializer\u001b[0m\u001b[1;33m)\u001b[0m\u001b[1;33m)\u001b[0m\u001b[1;33m\u001b[0m\u001b[0m\n\u001b[0;32m    715\u001b[0m \u001b[1;33m\u001b[0m\u001b[0m\n",
      "\u001b[1;32m/usr/local/bin/spark-1.3.1-bin-hadoop2.6/python/lib/py4j-0.8.2.1-src.zip/py4j/java_gateway.py\u001b[0m in \u001b[0;36m__call__\u001b[1;34m(self, *args)\u001b[0m\n\u001b[0;32m    536\u001b[0m         \u001b[0manswer\u001b[0m \u001b[1;33m=\u001b[0m \u001b[0mself\u001b[0m\u001b[1;33m.\u001b[0m\u001b[0mgateway_client\u001b[0m\u001b[1;33m.\u001b[0m\u001b[0msend_command\u001b[0m\u001b[1;33m(\u001b[0m\u001b[0mcommand\u001b[0m\u001b[1;33m)\u001b[0m\u001b[1;33m\u001b[0m\u001b[0m\n\u001b[0;32m    537\u001b[0m         return_value = get_return_value(answer, self.gateway_client,\n\u001b[1;32m--> 538\u001b[1;33m                 self.target_id, self.name)\n\u001b[0m\u001b[0;32m    539\u001b[0m \u001b[1;33m\u001b[0m\u001b[0m\n\u001b[0;32m    540\u001b[0m         \u001b[1;32mfor\u001b[0m \u001b[0mtemp_arg\u001b[0m \u001b[1;32min\u001b[0m \u001b[0mtemp_args\u001b[0m\u001b[1;33m:\u001b[0m\u001b[1;33m\u001b[0m\u001b[0m\n",
      "\u001b[1;32m/usr/local/bin/spark-1.3.1-bin-hadoop2.6/python/lib/py4j-0.8.2.1-src.zip/py4j/protocol.py\u001b[0m in \u001b[0;36mget_return_value\u001b[1;34m(answer, gateway_client, target_id, name)\u001b[0m\n\u001b[0;32m    298\u001b[0m                 raise Py4JJavaError(\n\u001b[0;32m    299\u001b[0m                     \u001b[1;34m'An error occurred while calling {0}{1}{2}.\\n'\u001b[0m\u001b[1;33m.\u001b[0m\u001b[1;33m\u001b[0m\u001b[0m\n\u001b[1;32m--> 300\u001b[1;33m                     format(target_id, '.', name), value)\n\u001b[0m\u001b[0;32m    301\u001b[0m             \u001b[1;32melse\u001b[0m\u001b[1;33m:\u001b[0m\u001b[1;33m\u001b[0m\u001b[0m\n\u001b[0;32m    302\u001b[0m                 raise Py4JError(\n",
      "\u001b[1;31mPy4JJavaError\u001b[0m: An error occurred while calling z:org.apache.spark.api.python.PythonRDD.collectAndServe.\n: org.apache.spark.SparkException: Job aborted due to stage failure: Task 0 in stage 57.0 failed 1 times, most recent failure: Lost task 0.0 in stage 57.0 (TID 53, localhost): org.apache.spark.api.python.PythonException: Traceback (most recent call last):\n  File \"/usr/local/bin/spark-1.3.1-bin-hadoop2.6/python/pyspark/worker.py\", line 101, in main\n    process()\n  File \"/usr/local/bin/spark-1.3.1-bin-hadoop2.6/python/pyspark/worker.py\", line 96, in process\n    serializer.dump_stream(func(split_index, iterator), outfile)\n  File \"/usr/local/bin/spark-1.3.1-bin-hadoop2.6/python/pyspark/rdd.py\", line 2252, in pipeline_func\n    return func(split, prev_func(split, iterator))\n  File \"/usr/local/bin/spark-1.3.1-bin-hadoop2.6/python/pyspark/rdd.py\", line 2252, in pipeline_func\n    return func(split, prev_func(split, iterator))\n  File \"/usr/local/bin/spark-1.3.1-bin-hadoop2.6/python/pyspark/rdd.py\", line 2252, in pipeline_func\n    return func(split, prev_func(split, iterator))\n  File \"/usr/local/bin/spark-1.3.1-bin-hadoop2.6/python/pyspark/rdd.py\", line 282, in func\n    return f(iterator)\n  File \"/usr/local/bin/spark-1.3.1-bin-hadoop2.6/python/pyspark/rdd.py\", line 932, in <lambda>\n    return self.mapPartitions(lambda i: [sum(1 for _ in i)]).sum()\n  File \"/usr/local/bin/spark-1.3.1-bin-hadoop2.6/python/pyspark/rdd.py\", line 932, in <genexpr>\n    return self.mapPartitions(lambda i: [sum(1 for _ in i)]).sum()\nTypeError: <lambda>() takes exactly 2 arguments (1 given)\n\n\tat org.apache.spark.api.python.PythonRDD$$anon$1.read(PythonRDD.scala:135)\n\tat org.apache.spark.api.python.PythonRDD$$anon$1.<init>(PythonRDD.scala:176)\n\tat org.apache.spark.api.python.PythonRDD.compute(PythonRDD.scala:94)\n\tat org.apache.spark.rdd.RDD.computeOrReadCheckpoint(RDD.scala:277)\n\tat org.apache.spark.rdd.RDD.iterator(RDD.scala:244)\n\tat org.apache.spark.scheduler.ResultTask.runTask(ResultTask.scala:61)\n\tat org.apache.spark.scheduler.Task.run(Task.scala:64)\n\tat org.apache.spark.executor.Executor$TaskRunner.run(Executor.scala:203)\n\tat java.util.concurrent.ThreadPoolExecutor.runWorker(ThreadPoolExecutor.java:1145)\n\tat java.util.concurrent.ThreadPoolExecutor$Worker.run(ThreadPoolExecutor.java:615)\n\tat java.lang.Thread.run(Thread.java:745)\n\nDriver stacktrace:\n\tat org.apache.spark.scheduler.DAGScheduler.org$apache$spark$scheduler$DAGScheduler$$failJobAndIndependentStages(DAGScheduler.scala:1204)\n\tat org.apache.spark.scheduler.DAGScheduler$$anonfun$abortStage$1.apply(DAGScheduler.scala:1193)\n\tat org.apache.spark.scheduler.DAGScheduler$$anonfun$abortStage$1.apply(DAGScheduler.scala:1192)\n\tat scala.collection.mutable.ResizableArray$class.foreach(ResizableArray.scala:59)\n\tat scala.collection.mutable.ArrayBuffer.foreach(ArrayBuffer.scala:47)\n\tat org.apache.spark.scheduler.DAGScheduler.abortStage(DAGScheduler.scala:1192)\n\tat org.apache.spark.scheduler.DAGScheduler$$anonfun$handleTaskSetFailed$1.apply(DAGScheduler.scala:693)\n\tat org.apache.spark.scheduler.DAGScheduler$$anonfun$handleTaskSetFailed$1.apply(DAGScheduler.scala:693)\n\tat scala.Option.foreach(Option.scala:236)\n\tat org.apache.spark.scheduler.DAGScheduler.handleTaskSetFailed(DAGScheduler.scala:693)\n\tat org.apache.spark.scheduler.DAGSchedulerEventProcessLoop.onReceive(DAGScheduler.scala:1393)\n\tat org.apache.spark.scheduler.DAGSchedulerEventProcessLoop.onReceive(DAGScheduler.scala:1354)\n\tat org.apache.spark.util.EventLoop$$anon$1.run(EventLoop.scala:48)\n"
     ]
    }
   ],
   "source": [
    "# .reduceByKey(lambda x, y: map(max, zip(x, y)))\n",
    "#weatherPrecpAddByKey = weatherPrecpCountByKey.reduceByKey(lambda v1,v2 : (v1[0]+v2[0], v1[1]+v2[1]))\n",
    "testrddAddByKey13 = testrdd1.map(lambda x, y: map(max, zip(x, y))) #reduceByKey will group the result by key\n",
    "print testrddAddByKey13.count()\n",
    "testrddAddByKey13.collect()"
   ]
  },
  {
   "cell_type": "code",
   "execution_count": 26,
   "metadata": {
    "collapsed": false
   },
   "outputs": [
    {
     "data": {
      "text/plain": [
       "(u'VMW00041010', (11, 1))"
      ]
     },
     "execution_count": 26,
     "metadata": {},
     "output_type": "execute_result"
    }
   ],
   "source": [
    "testrdd1.first() # first () no order"
   ]
  },
  {
   "cell_type": "code",
   "execution_count": 34,
   "metadata": {
    "collapsed": false
   },
   "outputs": [
    {
     "data": {
      "text/plain": [
       "[(u'VMW00041010', (11, 1))]"
      ]
     },
     "execution_count": 34,
     "metadata": {},
     "output_type": "execute_result"
    }
   ],
   "source": [
    "testrdd1.take(1)"
   ]
  },
  {
   "cell_type": "code",
   "execution_count": 35,
   "metadata": {
    "collapsed": false
   },
   "outputs": [
    {
     "data": {
      "text/plain": [
       "[(u'VMW00041010', (11, 1)),\n",
       " (u'ZI000067775', (290, 1)),\n",
       " (u'ZI000067775', (280, 1)),\n",
       " (u'WFM00091754', (3, 1)),\n",
       " (u'WFM00091754', (5, 1)),\n",
       " (u'WFM00091754', (4, 2)),\n",
       " (u'VQW00011640', (0, 1)),\n",
       " (u'VQW00011640', (8, 1)),\n",
       " (u'VQW00011640', (7, 3)),\n",
       " (u'VQW00011640', (6, 2)),\n",
       " (u'VQW00011640', (6, 3)),\n",
       " (u'VQW00011624', (0, 1)),\n",
       " (u'VQC00676000', (0, 1)),\n",
       " (u'VQC00672560', (0, 1)),\n",
       " (u'VQC00672551', (0, 1)),\n",
       " (u'VMW00041011', (0, 1))]"
      ]
     },
     "execution_count": 35,
     "metadata": {},
     "output_type": "execute_result"
    }
   ],
   "source": [
    "testrdd1.take(16)# take do not sort the resullt"
   ]
  },
  {
   "cell_type": "code",
   "execution_count": null,
   "metadata": {
    "collapsed": true
   },
   "outputs": [],
   "source": [
    "#how to sort the take result\n",
    "#or how to change the top() sort order?"
   ]
  },
  {
   "cell_type": "code",
   "execution_count": 33,
   "metadata": {
    "collapsed": false
   },
   "outputs": [
    {
     "data": {
      "text/plain": [
       "[(u'ZI000067775', (290, 1)),\n",
       " (u'ZI000067775', (280, 1)),\n",
       " (u'WFM00091754', (5, 1)),\n",
       " (u'WFM00091754', (4, 2)),\n",
       " (u'WFM00091754', (3, 1)),\n",
       " (u'VQW00011640', (8, 1)),\n",
       " (u'VQW00011640', (7, 3)),\n",
       " (u'VQW00011640', (6, 3)),\n",
       " (u'VQW00011640', (6, 2)),\n",
       " (u'VQW00011640', (0, 1)),\n",
       " (u'VQW00011624', (0, 1)),\n",
       " (u'VQC00676000', (0, 1)),\n",
       " (u'VQC00672560', (0, 1)),\n",
       " (u'VQC00672551', (0, 1)),\n",
       " (u'VMW00041011', (0, 1)),\n",
       " (u'VMW00041010', (11, 1))]"
      ]
     },
     "execution_count": 33,
     "metadata": {},
     "output_type": "execute_result"
    }
   ],
   "source": [
    "'''\n",
    "(u'VQW00011640', (6, 3)),\n",
    " (u'VQW00011640', (6, 2)),\n",
    "'''\n",
    "testrdd1.top(16) # top() always sort the RDD by key and value\n"
   ]
  },
  {
   "cell_type": "code",
   "execution_count": 8,
   "metadata": {
    "collapsed": false
   },
   "outputs": [
    {
     "data": {
      "text/plain": [
       "[(u'ZI000067775', (290, 1)),\n",
       " (u'ZI000067775', (280, 1)),\n",
       " (u'WFM00091754', (3, 1)),\n",
       " (u'WFM00091754', (5, 1)),\n",
       " (u'VQW00011640', (0, 1))]"
      ]
     },
     "execution_count": 8,
     "metadata": {},
     "output_type": "execute_result"
    }
   ],
   "source": [
    "#The station ID dictates the sort order of the top call because it appears first in the \n",
    "#(station ID, average precipitation) tuple we defined in the RDD\n",
    "# !!!  take() method only use the key!!!!!\n",
    "testrdd.take(5)"
   ]
  },
  {
   "cell_type": "code",
   "execution_count": 10,
   "metadata": {
    "collapsed": false
   },
   "outputs": [
    {
     "data": {
      "text/plain": [
       "(u'ZI000067775', (290, 1))"
      ]
     },
     "execution_count": 10,
     "metadata": {},
     "output_type": "execute_result"
    }
   ],
   "source": [
    "testrdd.first()"
   ]
  },
  {
   "cell_type": "code",
   "execution_count": 11,
   "metadata": {
    "collapsed": false
   },
   "outputs": [
    {
     "data": {
      "text/plain": [
       "[(u'ZI000067775', (290, 1))]"
      ]
     },
     "execution_count": 11,
     "metadata": {},
     "output_type": "execute_result"
    }
   ],
   "source": [
    "testrdd.take(1)"
   ]
  },
  {
   "cell_type": "code",
   "execution_count": 9,
   "metadata": {
    "collapsed": false
   },
   "outputs": [
    {
     "data": {
      "text/plain": [
       "[(u'ZI000067775', (290, 1)),\n",
       " (u'ZI000067775', (280, 1)),\n",
       " (u'WFM00091754', (3, 1)),\n",
       " (u'WFM00091754', (5, 1)),\n",
       " (u'VQW00011640', (0, 1)),\n",
       " (u'VQW00011640', (8, 1))]"
      ]
     },
     "execution_count": 9,
     "metadata": {},
     "output_type": "execute_result"
    }
   ],
   "source": [
    "# !!!  take() method only use the key!!!!!\n",
    "testrdd.take(6)  \n",
    "# now (u'VQW00011640', (8, 1)) is selected as it is the 6th in the "
   ]
  },
  {
   "cell_type": "code",
   "execution_count": 3,
   "metadata": {
    "collapsed": true
   },
   "outputs": [],
   "source": [
    "#weatherPrecpAddByKey = weatherPrecpCountByKey.reduceByKey(lambda v1,v2 : (v1[0]+v2[0], v1[1]+v2[1]))\n",
    "testrddAddByKey = testrdd.reduceByKey(lambda v1,v2 : (v1[0]+v2[0], v1[1]+v2[1]))"
   ]
  },
  {
   "cell_type": "code",
   "execution_count": 6,
   "metadata": {
    "collapsed": false
   },
   "outputs": [
    {
     "data": {
      "text/plain": [
       "[(u'WFM00091754', (8, 2)),\n",
       " (u'VQC00676000', (0, 1)),\n",
       " (u'VQW00011624', (0, 1)),\n",
       " (u'VMM00048914', (0, 1)),\n",
       " (u'VQW00011640', (8, 2)),\n",
       " (u'VQC00672551', (0, 1)),\n",
       " (u'VQC00672560', (0, 1)),\n",
       " (u'VMW00041011', (0, 1)),\n",
       " (u'VMW00041010', (19, 3)),\n",
       " (u'ZI000067775', (570, 2))]"
      ]
     },
     "execution_count": 6,
     "metadata": {},
     "output_type": "execute_result"
    }
   ],
   "source": [
    "testrddAddByKey.collect()#collect "
   ]
  },
  {
   "cell_type": "code",
   "execution_count": 4,
   "metadata": {
    "collapsed": false
   },
   "outputs": [
    {
     "data": {
      "text/plain": [
       "PythonRDD[5] at RDD at PythonRDD.scala:43"
      ]
     },
     "execution_count": 4,
     "metadata": {},
     "output_type": "execute_result"
    }
   ],
   "source": [
    "testrddAddByKey"
   ]
  },
  {
   "cell_type": "code",
   "execution_count": 5,
   "metadata": {
    "collapsed": false
   },
   "outputs": [
    {
     "data": {
      "text/plain": [
       "pyspark.rdd.PipelinedRDD"
      ]
     },
     "execution_count": 5,
     "metadata": {},
     "output_type": "execute_result"
    }
   ],
   "source": [
    "type(testrddAddByKey)"
   ]
  },
  {
   "cell_type": "code",
   "execution_count": null,
   "metadata": {
    "collapsed": true
   },
   "outputs": [],
   "source": []
  }
 ],
 "metadata": {
  "kernelspec": {
   "display_name": "Python 2",
   "language": "python",
   "name": "python2"
  },
  "language_info": {
   "codemirror_mode": {
    "name": "ipython",
    "version": 2
   },
   "file_extension": ".py",
   "mimetype": "text/x-python",
   "name": "python",
   "nbconvert_exporter": "python",
   "pygments_lexer": "ipython2",
   "version": "2.7.6"
  }
 },
 "nbformat": 4,
 "nbformat_minor": 0
}
